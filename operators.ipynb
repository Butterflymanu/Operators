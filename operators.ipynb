{
 "cells": [
  {
   "cell_type": "code",
   "execution_count": 1,
   "metadata": {},
   "outputs": [
    {
     "name": "stdout",
     "output_type": "stream",
     "text": [
      "Addition: 579\n",
      "Subtraction: -111\n",
      "Multiplication: 80730\n",
      "Division: 0.6782608695652174\n",
      "Modulus: 234\n",
      "Exponential: 23959116899037204629064479247538857768156089026694094578181958504840843060556623047944662775185247683714440477847097413763410261002444988309288963070316644433077314852479481816851466324152769481381506533303818352736026849735982658660497523159244946642638803049863063576993728427957720123318151858682859181992008248222339922789322118229557062040896060668038503147630273526645361082220284822825084292060488324947259725294324255736674336449807947068283420418524975340008994768090792105642956777525006736129706141742739738854024180387577452037554133729661151335224084917967625943978893458848317618091344437290313350472977383109990777248141730558186179312494758024852983009346556498248388488318279819916515879351555119391150890531325851557274599521379470738238928026417886870440990653792920301451211362402731604663362125824\n",
      "Flow-division: 0\n"
     ]
    }
   ],
   "source": [
    "#Operators\n",
    "\n",
    "#1-Arithmetic Operators\n",
    "\n",
    "#1)Addition(+)\n",
    "x=234\n",
    "y=345\n",
    "\n",
    "print(\"Addition:\",x+y)\n",
    "\n",
    "#2)Subtraction(-)\n",
    "\n",
    "print(\"Subtraction:\",x-y)\n",
    "\n",
    "#3)Multiplication(*)\n",
    "\n",
    "print(\"Multiplication:\",x*y)\n",
    "\n",
    "#4)Division(/)\n",
    "\n",
    "print(\"Division:\",x/y)\n",
    "\n",
    "#5)Modulus(%)\n",
    "\n",
    "print(\"Modulus:\",x%y)\n",
    "\n",
    "#6)Exponential(**)\n",
    " \n",
    "print(\"Exponential:\",x**y)\n",
    "\n",
    "#7)Flow-division(//)\n",
    "\n",
    "print(\"Flow-division:\",x//y)"
   ]
  },
  {
   "cell_type": "code",
   "execution_count": 2,
   "metadata": {},
   "outputs": [
    {
     "name": "stdout",
     "output_type": "stream",
     "text": [
      "40\n",
      "30\n",
      "100\n",
      "5\n",
      "34867844010000000000\n",
      "17\n",
      "11.2\n",
      "88\n",
      "8\n"
     ]
    }
   ],
   "source": [
    "#Assignment Operators\n",
    "\n",
    "a=30 \n",
    "a+=10\n",
    "print(a)\n",
    "\n",
    "b=20 \n",
    "b+=10\n",
    "print(b)\n",
    "\n",
    "c=10\n",
    "c*=10\n",
    "print(c)\n",
    "\n",
    "d=2345\n",
    "d%=9\n",
    "print(d)\n",
    "\n",
    "e=90\n",
    "e**=10\n",
    "print(e)\n",
    "\n",
    "f=68 \n",
    "f//=4\n",
    "print(f)\n",
    "\n",
    "g=56 \n",
    "g/=5\n",
    "print(g)\n",
    "\n",
    "h=87 \n",
    "h^=15\n",
    "print(h)\n",
    "\n",
    "i=650\n",
    "i&=12\n",
    "print(i)\n"
   ]
  },
  {
   "cell_type": "code",
   "execution_count": 3,
   "metadata": {},
   "outputs": [
    {
     "name": "stdout",
     "output_type": "stream",
     "text": [
      "False\n",
      "True\n",
      "True\n",
      "False\n",
      "True\n",
      "False\n"
     ]
    }
   ],
   "source": [
    "#3-Comparission Operators\n",
    "\n",
    "k=345\n",
    "p=234\n",
    "\n",
    "print(k==p) #equal\n",
    "\n",
    "print(k!=p) #not equal\n",
    "\n",
    "print(k>p) #greater than\n",
    "\n",
    "print(k<p) #less than\n",
    "\n",
    "print(k>=p) #greater than or equal\n",
    "\n",
    "print(k<=p) #less than or equal"
   ]
  },
  {
   "cell_type": "code",
   "execution_count": 4,
   "metadata": {},
   "outputs": [
    {
     "name": "stdout",
     "output_type": "stream",
     "text": [
      "True\n",
      "True\n",
      "False\n"
     ]
    }
   ],
   "source": [
    "#4-Logical Operators\n",
    "\n",
    "x=20\n",
    "print(x>8 and x>5) #logical and\n",
    "\n",
    "print(x>10 or x>5) #logical or\n",
    " \n",
    "print(not(x>10 and x>5)) #logical not"
   ]
  },
  {
   "cell_type": "code",
   "execution_count": 5,
   "metadata": {},
   "outputs": [
    {
     "name": "stdout",
     "output_type": "stream",
     "text": [
      "True\n",
      "False\n",
      "True\n",
      "True\n",
      "False\n"
     ]
    }
   ],
   "source": [
    "#5-Identity Operators\n",
    "\n",
    "#is\n",
    "\n",
    "list1=[123,345,675,976]\n",
    "list2=[675,543,987,32]\n",
    "x=list1\n",
    "print(x is list1)\n",
    "print(list1 is list2)\n",
    "\n",
    "#is not\n",
    "\n",
    "print(list1 is not list2)\n",
    "print(x is not list2)\n",
    "print(x is not list1)\n"
   ]
  },
  {
   "cell_type": "code",
   "execution_count": 6,
   "metadata": {},
   "outputs": [
    {
     "name": "stdout",
     "output_type": "stream",
     "text": [
      "False\n",
      "False\n",
      "True\n",
      "True\n",
      "True\n",
      "False\n"
     ]
    }
   ],
   "source": [
    "#6-Membership Operators\n",
    "\n",
    "#in\n",
    "\n",
    "print(x in list2) #returns false because we don't have x value in list2\n",
    "\n",
    "print(x in list1)\n",
    "\n",
    "print(123 in list1)\n",
    "\n",
    "\n",
    "#not in\n",
    "\n",
    "print(x not in list1)\n",
    "\n",
    "print(x not in list2)\n",
    "\n",
    "print(123 not in list1)"
   ]
  },
  {
   "cell_type": "code",
   "execution_count": 7,
   "metadata": {},
   "outputs": [
    {
     "name": "stdout",
     "output_type": "stream",
     "text": [
      "2\n",
      "10\n",
      "8\n",
      "-11\n",
      "40\n",
      "2\n"
     ]
    }
   ],
   "source": [
    "#7-Bitiwise Operators\n",
    "\n",
    "#Bitiwise AND(&)\n",
    "\n",
    "print(10 & 3)\n",
    "\n",
    "#Bitiwise OR(|)\n",
    "\n",
    "print(10 | 2)\n",
    "\n",
    "#Bitiwise XOR(^)\n",
    "\n",
    "print(10 ^ 2)\n",
    "\n",
    "#Bitiwise NOT(~)\n",
    "\n",
    "print(~10)\n",
    "\n",
    "#Left shift(<<)\n",
    "\n",
    "print(10 << 2)\n",
    "\n",
    "#Right shift(>>)\n",
    "\n",
    "print(10 >> 2)\n",
    "\n"
   ]
  }
 ],
 "metadata": {
  "kernelspec": {
   "display_name": "Python 3",
   "language": "python",
   "name": "python3"
  },
  "language_info": {
   "codemirror_mode": {
    "name": "ipython",
    "version": 3
   },
   "file_extension": ".py",
   "mimetype": "text/x-python",
   "name": "python",
   "nbconvert_exporter": "python",
   "pygments_lexer": "ipython3",
   "version": "3.12.2"
  }
 },
 "nbformat": 4,
 "nbformat_minor": 2
}
